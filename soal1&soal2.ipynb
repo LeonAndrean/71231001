{
 "cells": [
  {
   "cell_type": "code",
   "execution_count": 4,
   "metadata": {},
   "outputs": [
    {
     "name": "stdout",
     "output_type": "stream",
     "text": [
      "Baris ke-1 sama: leon memiliki smartphone zenphone 10\n",
      "Baris ke-2 file pertama berbeda dengan baris ke-2 file kedua.\n",
      "File Pertama: nanik memiliki smartphone xiaomi 12 pro\n",
      "File kedua: nanik memiliki smartphone poco x3\n",
      "Baris ke-3 sama: windah memiliki smartphone zenphone 10\n",
      "Baris ke-4 file pertama berbeda dengan baris ke-4 file kedua.\n",
      "File Pertama: gabry memiliki smartphone iphone xs\n",
      "File kedua: gabry memiliki smartphone iphone 12\n",
      "Baris ke-5 file pertama berbeda dengan baris ke-5 file kedua.\n",
      "File Pertama: andre memiliki smartphone iphone 11\n",
      "File kedua: andre memiliki smartphone iphone xs\n",
      "Baris ke-6 sama: mika memiliki smartphone realme 9\n",
      "Baris ke-7 sama: justin memiliki smartphone samsung note 10\n",
      "Baris ke-8 sama: steve memiliki smartphone poco x3\n",
      "Baris ke-9 sama: omar memiliki smartphone iphone 15\n",
      "Baris ke-10 file pertama berbeda dengan baris ke-10 file kedua.\n",
      "File Pertama: kumar memiliki smartphone samsung s22\n",
      "File kedua: kumar memiliki smartphone samsung s23\n"
     ]
    }
   ],
   "source": [
    "#Buatlah sebuah program yang dapat membandingkan 2 buah file teks dan kemudian\n",
    "#menampilkan perbedaan antar kedua teks per barisnya jika ada perbedaaan!\n",
    "try:\n",
    "    file1 = input(\"Masukkan nama file pertama : \")\n",
    "    file2 = input(\"Masukkan nama file kedua   : \")\n",
    "\n",
    "    with open(file1) as file1:\n",
    "        content1 = file1.read()\n",
    "    with open(file2) as file2:\n",
    "        content2 = file2.read()\n",
    "\n",
    "    lines1 = content1.split(\"\\n\")\n",
    "    lines2 = content2.split(\"\\n\")\n",
    "\n",
    "    for i, (line1, line2) in enumerate(zip(lines1, lines2)):\n",
    "        if line1 != line2:\n",
    "            print(f\"Baris ke-{i+1} file pertama berbeda dengan baris ke-{i+1} file kedua.\")\n",
    "            print(f\"File Pertama: {line1}\")\n",
    "            print(f\"File kedua: {line2}\")\n",
    "        elif i < 10:\n",
    "            print(f\"Baris ke-{i+1} sama: {line1}\")\n",
    "\n",
    "except FileNotFoundError:\n",
    "    print(\"File yang kamu ketik salah/tidak ada!!!\")"
   ]
  },
  {
   "cell_type": "code",
   "execution_count": 5,
   "metadata": {},
   "outputs": [
    {
     "name": "stdout",
     "output_type": "stream",
     "text": [
      "1+1 =\n",
      "Jawaban Kamu Benar\n",
      "Bendera Indonesia?\n",
      "Jawaban Kamu Benar\n",
      "Kota gudeg adalah:\n",
      "Jawaban Kamu Salah\n",
      "Komponen PC untuk penyimpanan file adalah...\n",
      "Jawaban Kamu Salah\n",
      "50 * 20 =\n",
      "Jawaban Kamu Benar\n"
     ]
    }
   ],
   "source": [
    "#Buatlah sebuah program untuk menampilkan soal sederhana yang diambil dari file\n",
    "#teks soal.txt yang memiliki format sebagai berikut:\n",
    "soal = open(\"soal.txt\")\n",
    "\n",
    "for baris in soal:\n",
    "    i = baris.split(\" || \")\n",
    "    print(i[0])\n",
    "    jawab = input(\"Jawab :\")\n",
    "    if jawab.lower() == i[1].lower().replace(\"\\n\", \"\"):\n",
    "        print(\"Jawaban Kamu Benar\")\n",
    "    else:\n",
    "        print(\"Jawaban Kamu Salah\")"
   ]
  }
 ],
 "metadata": {
  "kernelspec": {
   "display_name": "Python 3",
   "language": "python",
   "name": "python3"
  },
  "language_info": {
   "codemirror_mode": {
    "name": "ipython",
    "version": 3
   },
   "file_extension": ".py",
   "mimetype": "text/x-python",
   "name": "python",
   "nbconvert_exporter": "python",
   "pygments_lexer": "ipython3",
   "version": "3.11.4"
  }
 },
 "nbformat": 4,
 "nbformat_minor": 2
}
